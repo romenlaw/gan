{
  "cells": [
    {
      "cell_type": "markdown",
      "metadata": {
        "id": "view-in-github",
        "colab_type": "text"
      },
      "source": [
        "<a href=\"https://colab.research.google.com/github/romenlaw/gan/blob/main/GANs_in_Slanted_Land.ipynb\" target=\"_parent\"><img src=\"https://colab.research.google.com/assets/colab-badge.svg\" alt=\"Open In Colab\"/></a>"
      ]
    },
    {
      "cell_type": "markdown",
      "metadata": {
        "id": "Fv02GZmRFgja"
      },
      "source": [
        "# Generative Adversarial Networks in Slanted Land\n",
        "\n",
        "This notebook is from https://github.com/luisguiserrano/gans/blob/master/GANs_in_Slanted_Land.ipynb\n",
        "\n",
        "In this notebook, we build a very simple pair of GANs.\n",
        "- The dataset is a dataset of 2x2 black and white images, where the images we want to generate (the faces) are backwards diagonals (\\\\)\n",
        "- The neural networks only have one layer.\n",
        "\n",
        "Below is the YouTube video corresponding to this notebook."
      ]
    },
    {
      "cell_type": "code",
      "source": [
        "import IPython\n",
        "IPython.display.IFrame(\"https://www.youtube.com/watch?v=8L11aMN5KY8\", 560, 315)"
      ],
      "metadata": {
        "colab": {
          "base_uri": "https://localhost:8080/",
          "height": 336
        },
        "id": "Msqw96BZF77l",
        "outputId": "64b32e9e-47f7-4ee2-c540-75df79dce9fa"
      },
      "execution_count": 1,
      "outputs": [
        {
          "output_type": "execute_result",
          "data": {
            "text/plain": [
              "<IPython.lib.display.IFrame at 0x7f336142a710>"
            ],
            "text/html": [
              "\n",
              "        <iframe\n",
              "            width=\"560\"\n",
              "            height=\"315\"\n",
              "            src=\"https://www.youtube.com/watch?v=8L11aMN5KY8\"\n",
              "            frameborder=\"0\"\n",
              "            allowfullscreen\n",
              "            \n",
              "        ></iframe>\n",
              "        "
            ]
          },
          "metadata": {},
          "execution_count": 1
        }
      ]
    },
    {
      "cell_type": "markdown",
      "metadata": {
        "id": "ZArNW3AHFgje"
      },
      "source": [
        "### Imports"
      ]
    },
    {
      "cell_type": "code",
      "execution_count": 2,
      "metadata": {
        "id": "RSq-9JtPFgjf"
      },
      "outputs": [],
      "source": [
        "# Imports\n",
        "\n",
        "import numpy as np\n",
        "from numpy import random\n",
        "from matplotlib import pyplot as plt\n",
        "%matplotlib inline"
      ]
    },
    {
      "cell_type": "markdown",
      "metadata": {
        "id": "kCe9CDDoFgjf"
      },
      "source": [
        "### Plotting function"
      ]
    },
    {
      "cell_type": "code",
      "execution_count": 3,
      "metadata": {
        "id": "0cr_n4n5Fgjf"
      },
      "outputs": [],
      "source": [
        "# Drawing function\n",
        "\n",
        "def view_samples(samples, m, n):\n",
        "  \"\"\"\n",
        "  samples - a list of 2x2 pixel images to be plotted. The dim of each element is\n",
        "    reshaped in this function, so it does not matter if the input is (4,) or (2,2)\n",
        "  m - number of subplot rows in a pyplot\n",
        "  n - number of subplot columns in a pyplot\n",
        "  This function only plots mxn elements in the samples list, and discards the rest.\n",
        "  \"\"\"\n",
        "  fig, axes = plt.subplots(figsize=(5, 5), nrows=m, ncols=n, sharey=True, sharex=True)\n",
        "  for ax, img in zip(axes.flatten(), samples):\n",
        "    ax.xaxis.set_visible(False)\n",
        "    ax.yaxis.set_visible(False)\n",
        "    im = ax.imshow(1-img.reshape((2,2)), cmap='Greys_r')\n",
        "  return fig, axes"
      ]
    },
    {
      "cell_type": "markdown",
      "metadata": {
        "id": "MtzpgrCiFgjf"
      },
      "source": [
        "# Examples of faces\n",
        "\n",
        "In the video, we've defined the faces as backwards diagonals. Here are some examples."
      ]
    },
    {
      "cell_type": "code",
      "execution_count": 18,
      "metadata": {
        "colab": {
          "base_uri": "https://localhost:8080/",
          "height": 103
        },
        "id": "s-Rf1-0KFgjg",
        "outputId": "3e05bd18-3a54-4bff-c211-46bed40e6e2e"
      },
      "outputs": [
        {
          "output_type": "display_data",
          "data": {
            "text/plain": [
              "<Figure size 500x500 with 5 Axes>"
            ],
            "image/png": "[encoded data removed]"
          },
          "metadata": {}
        }
      ],
      "source": [
        "# Examples of faces\n",
        "# faces = [np.array([1,0,0,1]),\n",
        "#          np.array([0.9,0.1,0.2,0.8]),\n",
        "#          np.array([0.9,0.2,0.1,0.8]),\n",
        "#          np.array([0.8,0.1,0.2,0.9]),\n",
        "#          np.array([0.8,0.2,0.1,0.9])]\n",
        "\n",
        "# let's try slant the other way\n",
        "faces = [np.array([0,1,1,0]),\n",
        "         np.array([0.1,0.9,0.8,0.2]),\n",
        "         np.array([0.2,0.9,0.8,0.1]),\n",
        "         np.array([0.1,0.8,0.9,0.2]),\n",
        "         np.array([0.2,0.8,0.9,0.1])]\n",
        "\n",
        "_ = view_samples(faces, 1, 5)"
      ]
    },
    {
      "cell_type": "markdown",
      "metadata": {
        "id": "zzHtjKxqFgjg"
      },
      "source": [
        "# Examples of noise\n",
        "The following are randomly generated images, which don't correspond to faces."
      ]
    },
    {
      "cell_type": "code",
      "execution_count": 19,
      "metadata": {
        "colab": {
          "base_uri": "https://localhost:8080/",
          "height": 405
        },
        "id": "HFx4FBcsFgjg",
        "outputId": "53ae5d28-ac42-47ea-a7ab-c944c98826eb"
      },
      "outputs": [
        {
          "output_type": "display_data",
          "data": {
            "text/plain": [
              "<Figure size 500x500 with 20 Axes>"
            ],
            "image/png": "[encoded data removed]"
          },
          "metadata": {}
        }
      ],
      "source": [
        "# Examples of noisy images\n",
        "# noise = [np.random.randn(2,2) for i in range(20)]\n",
        "def generate_random_image():\n",
        "  return [np.random.random(), np.random.random(), np.random.random(), np.random.random()]\n",
        "\n",
        "noise = [np.array(generate_random_image()) for _ in range(20)]\n",
        "_ = view_samples(noise, 4,5)"
      ]
    },
    {
      "cell_type": "markdown",
      "metadata": {
        "id": "dKvCli0eFgjg"
      },
      "source": [
        "# Building the neural networks\n",
        "\n",
        "definition of sigmoid:\n",
        "$$\\sigma(x) = \\dfrac{1}{1+e^{-x}}\n",
        "$$\n",
        "Derivative of sigmoid:\n",
        "$$\\sigma'(x) = \\sigma(x)[1-\\sigma(x)]\n",
        "$$"
      ]
    },
    {
      "cell_type": "code",
      "execution_count": 8,
      "metadata": {
        "id": "joHziya6Fgjg"
      },
      "outputs": [],
      "source": [
        "# The sigmoid activation function\n",
        "def sigmoid(x):\n",
        "    return 1.0/(1.0+np.exp(-x))"
      ]
    },
    {
      "cell_type": "markdown",
      "metadata": {
        "id": "jUxIUGeyFgjh"
      },
      "source": [
        "## The Discriminator\n",
        "\n",
        "<img src=\"https://github.com/luisguiserrano/gans/blob/master/discriminator_math.png?raw=1\" />"
      ]
    },
    {
      "cell_type": "code",
      "execution_count": 7,
      "metadata": {
        "id": "VhS9aU_3Fgjh"
      },
      "outputs": [],
      "source": [
        "class Discriminator():\n",
        "    def __init__(self):\n",
        "        #self.weights = np.array([0.0 for i in range(4)])\n",
        "        #self.bias = 0.0\n",
        "        self.weights = np.array([np.random.normal() for i in range(4)])\n",
        "        self.bias = np.random.normal()\n",
        "\n",
        "    def forward(self, x): # dim of x is (4,)\n",
        "        # Forward pass\n",
        "        return sigmoid(np.dot(x, self.weights) + self.bias)\n",
        "\n",
        "    def error_from_image(self, image): # dim of image is (4,)\n",
        "        prediction = self.forward(image)\n",
        "        # We want the prediction to be 1, so the error is -log(prediction)\n",
        "        return -np.log(prediction)\n",
        "\n",
        "    def derivatives_from_image(self, image):\n",
        "        prediction = self.forward(image)\n",
        "        derivatives_weights = -image * (1-prediction)\n",
        "        derivative_bias = -(1-prediction)\n",
        "        return derivatives_weights, derivative_bias\n",
        "\n",
        "    def update_from_image(self, x):\n",
        "        d_weights, d_bias = self.derivatives_from_image(x)\n",
        "        self.weights -= learning_rate * d_weights\n",
        "        self.bias -= learning_rate * d_bias\n",
        "\n",
        "    def error_from_noise(self, noise):\n",
        "        prediction = self.forward(noise)\n",
        "        # We want the prediction to be 0, so the error is -log(1-prediction)\n",
        "        return -np.log(1-prediction)\n",
        "\n",
        "    def derivatives_from_noise(self, noise):\n",
        "        prediction = self.forward(noise)\n",
        "        derivatives_weights = noise * prediction\n",
        "        derivative_bias = prediction\n",
        "        return derivatives_weights, derivative_bias\n",
        "\n",
        "    def update_from_noise(self, noise):\n",
        "        ders = self.derivatives_from_noise(noise)\n",
        "        self.weights -= learning_rate * ders[0]\n",
        "        self.bias -= learning_rate * ders[1]"
      ]
    },
    {
      "cell_type": "markdown",
      "metadata": {
        "id": "MttxVBMuFgjh"
      },
      "source": [
        "## The Generator\n",
        "<img src=\"https://github.com/luisguiserrano/gans/blob/master/generator_math.png?raw=1\" />"
      ]
    },
    {
      "cell_type": "code",
      "execution_count": 10,
      "metadata": {
        "id": "rQQmZOlmFgjh"
      },
      "outputs": [],
      "source": [
        "class Generator():\n",
        "    def __init__(self):\n",
        "        self.weights = np.array([np.random.normal() for i in range(4)])\n",
        "        self.biases = np.array([np.random.normal() for i in range(4)])\n",
        "\n",
        "    def forward(self, z): # z is scalar\n",
        "        # Forward pass\n",
        "        return sigmoid(z * self.weights + self.biases)\n",
        "\n",
        "    def error(self, z, discriminator):\n",
        "        x = self.forward(z)\n",
        "        # We want the prediction to be 0, so the error is -log(1-prediction)\n",
        "        y = discriminator.forward(x)\n",
        "        return -np.log(y)\n",
        "\n",
        "    def derivatives(self, z, discriminator):\n",
        "        discriminator_weights = discriminator.weights\n",
        "        discriminator_bias = discriminator.bias\n",
        "        x = self.forward(z)\n",
        "        y = discriminator.forward(x)\n",
        "        factor = -(1-y) * discriminator_weights * x *(1-x)\n",
        "        derivatives_weights = factor * z\n",
        "        derivative_bias = factor\n",
        "        return derivatives_weights, derivative_bias\n",
        "\n",
        "    def update(self, z, discriminator):\n",
        "        error_before = self.error(z, discriminator)\n",
        "        d_weights, d_bias = self.derivatives(z, discriminator)\n",
        "        self.weights -= learning_rate * d_weights\n",
        "        self.biases -= learning_rate * d_bias\n",
        "        error_after = self.error(z, discriminator)"
      ]
    },
    {
      "cell_type": "markdown",
      "metadata": {
        "id": "JAAlP2WfFgjh"
      },
      "source": [
        "# Training"
      ]
    },
    {
      "cell_type": "code",
      "execution_count": 20,
      "metadata": {
        "id": "X825r7t_Fgjh"
      },
      "outputs": [],
      "source": [
        "# Set random seed\n",
        "np.random.seed(42)\n",
        "\n",
        "# Hyperparameters\n",
        "learning_rate = 0.01\n",
        "epochs = 1000\n",
        "\n",
        "# The GAN\n",
        "D = Discriminator()\n",
        "G = Generator()\n",
        "\n",
        "# For the error plot\n",
        "errors_discriminator = []\n",
        "errors_generator = []\n",
        "\n",
        "for epoch in range(epochs):\n",
        "\n",
        "  for face in faces:\n",
        "\n",
        "    # Update the discriminator weights from the real face\n",
        "    D.update_from_image(face)\n",
        "\n",
        "    # Pick a random number to generate a fake face\n",
        "    z = random.rand()\n",
        "\n",
        "    # Calculate the discriminator error\n",
        "    errors_discriminator.append(sum(D.error_from_image(face) + D.error_from_noise(z)))\n",
        "\n",
        "    # Calculate the generator error\n",
        "    errors_generator.append(G.error(z, D))\n",
        "\n",
        "    # Build a fake face\n",
        "    noise = G.forward(z)\n",
        "\n",
        "    # Update the discriminator weights from the fake face\n",
        "    D.update_from_noise(noise)\n",
        "\n",
        "    # Update the generator weights from the fake face\n",
        "    G.update(z, D)"
      ]
    },
    {
      "cell_type": "code",
      "execution_count": 21,
      "metadata": {
        "scrolled": true,
        "id": "cybIK1RMFgji",
        "outputId": "4d2e3ea8-5f4c-478c-8abc-021b9dcc89f5",
        "colab": {
          "base_uri": "https://localhost:8080/",
          "height": 904
        }
      },
      "outputs": [
        {
          "output_type": "display_data",
          "data": {
            "text/plain": [
              "<Figure size 640x480 with 1 Axes>"
            ],
            "image/png": "[encoded data removed]"
          },
          "metadata": {}
        },
        {
          "output_type": "execute_result",
          "data": {
            "text/plain": [
              "Text(0.5, 1.0, 'Discriminator error function')"
            ]
          },
          "metadata": {},
          "execution_count": 21
        },
        {
          "output_type": "display_data",
          "data": {
            "text/plain": [
              "<Figure size 640x480 with 1 Axes>"
            ],
            "image/png": "[encoded data removed]"
          },
          "metadata": {}
        }
      ],
      "source": [
        "import matplotlib.pyplot as plt\n",
        "plt.plot(errors_generator)\n",
        "plt.title(\"Generator error function\")\n",
        "plt.legend(\"gen\")\n",
        "plt.show()\n",
        "plt.plot(errors_discriminator)\n",
        "plt.legend('disc')\n",
        "plt.title(\"Discriminator error function\")"
      ]
    },
    {
      "cell_type": "markdown",
      "metadata": {
        "id": "q29uTscaFgji"
      },
      "source": [
        "# Generating images"
      ]
    },
    {
      "cell_type": "code",
      "execution_count": 22,
      "metadata": {
        "id": "rqF9XPmBFgji",
        "outputId": "c377f4c6-d2ab-477e-aec2-8ef252b7d153",
        "colab": {
          "base_uri": "https://localhost:8080/",
          "height": 217
        }
      },
      "outputs": [
        {
          "output_type": "stream",
          "name": "stdout",
          "text": [
            "[0.03050272 0.95510441 0.95952934 0.03158775]\n",
            "[0.01938875 0.97752564 0.97618115 0.01981288]\n",
            "[0.02593382 0.96492441 0.96651475 0.02672959]\n",
            "[0.03678269 0.94043356 0.94967576 0.0382968 ]\n",
            "[0.01676157 0.98203035 0.97992255 0.01705415]\n",
            "[0.02395265 0.96893215 0.96948707 0.02463009]\n",
            "[0.0173612  0.9810326  0.97907665 0.01768278]\n",
            "[0.03201946 0.95167882 0.95717419 0.03320504]\n"
          ]
        },
        {
          "output_type": "display_data",
          "data": {
            "text/plain": [
              "<Figure size 500x500 with 8 Axes>"
            ],
            "image/png": "[encoded data removed]"
          },
          "metadata": {}
        }
      ],
      "source": [
        "generated_images = []\n",
        "for i in range(8):\n",
        "    z = random.random()\n",
        "    generated_image = G.forward(z)\n",
        "    generated_images.append(generated_image)\n",
        "_ = view_samples(generated_images, 1, 8)\n",
        "for i in generated_images:\n",
        "    print(i)"
      ]
    },
    {
      "cell_type": "markdown",
      "metadata": {
        "id": "taQDpj_HFgji"
      },
      "source": [
        "# Studying the weights and biases of the Generator and Discriminator"
      ]
    },
    {
      "cell_type": "code",
      "execution_count": 23,
      "metadata": {
        "id": "Q9u8_I1uFgji",
        "outputId": "a50cf256-8bb0-4c7c-b76f-92242afa9301",
        "colab": {
          "base_uri": "https://localhost:8080/"
        }
      },
      "outputs": [
        {
          "output_type": "stream",
          "name": "stdout",
          "text": [
            "Generator weights [-1.5578018   2.39836268  1.83542343 -1.60475664]\n",
            "Generator biases [-2.58699057  1.71501029  2.13849715 -2.52463451]\n"
          ]
        }
      ],
      "source": [
        "print(\"Generator weights\", G.weights)\n",
        "print(\"Generator biases\", G.biases)"
      ]
    },
    {
      "cell_type": "code",
      "execution_count": 24,
      "metadata": {
        "id": "aTPI2EJ3Fgjj",
        "outputId": "a1b76cb7-9756-4567-c80f-a258dd57b11f",
        "colab": {
          "base_uri": "https://localhost:8080/"
        }
      },
      "outputs": [
        {
          "output_type": "stream",
          "name": "stdout",
          "text": [
            "Discriminator weights [-0.43546069  0.69457121  0.32449066 -0.78035473]\n",
            "Discriminator bias -0.8819278687770823\n"
          ]
        }
      ],
      "source": [
        "print(\"Discriminator weights\", D.weights)\n",
        "print(\"Discriminator bias\", D.bias)"
      ]
    }
  ],
  "metadata": {
    "kernelspec": {
      "display_name": "Python 3",
      "language": "python",
      "name": "python3"
    },
    "language_info": {
      "codemirror_mode": {
        "name": "ipython",
        "version": 3
      },
      "file_extension": ".py",
      "mimetype": "text/x-python",
      "name": "python",
      "nbconvert_exporter": "python",
      "pygments_lexer": "ipython3",
      "version": "3.8.1"
    },
    "colab": {
      "provenance": [],
      "include_colab_link": true
    }
  },
  "nbformat": 4,
  "nbformat_minor": 0
}